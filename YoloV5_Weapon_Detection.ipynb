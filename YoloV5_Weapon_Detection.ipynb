{
  "cells": [
    {
      "cell_type": "markdown",
      "source": [
        "### REQUIRED INITIAL STEPS"
      ],
      "metadata": {
        "id": "JZyT3ooQOpdD"
      }
    },
    {
      "cell_type": "code",
      "execution_count": null,
      "metadata": {
        "id": "qavNkXzQ3O5p"
      },
      "outputs": [],
      "source": [
        "!git clone https://github.com/ultralytics/yolov5\n",
        "%cd yolov5\n",
        "%pip install -q -U roboflow\n",
        "%pip install -r requirements.txt\n",
        "\n",
        "import torch\n",
        "import os\n",
        "from IPython.display import Image, clear_output\n",
        "\n",
        "\n",
        "## Purely to check to make sure you're on a GPU. Training and detection performance is suboptimal without it.\n",
        "print(f\"Using torch {torch.__version__} ({torch.cuda.get_device_properties(0).name if torch.cuda.is_available() else 'CPU'})\")"
      ]
    },
    {
      "cell_type": "code",
      "execution_count": null,
      "metadata": {
        "colab": {
          "base_uri": "https://localhost:8080/"
        },
        "id": "Iue3FD4sPrC1",
        "outputId": "533643e7-f043-48d3-96c4-47def3dcb4f8"
      },
      "outputs": [
        {
          "output_type": "stream",
          "name": "stdout",
          "text": [
            "Mounted at /content/drive\n"
          ]
        }
      ],
      "source": [
        "from google.colab import drive\n",
        "drive.mount('/content/drive', force_remount = True)\n",
        "os.environ[\"DATASET_DIRECTORY\"] = \"/content/datasets\""
      ]
    },
    {
      "cell_type": "markdown",
      "source": [
        "#### REQUIRED FOR FRESH TRAINING AND ANY TIME A LOCAL DETECTION ISN'T BEING EXECUTED"
      ],
      "metadata": {
        "id": "MekeO6XmOv8v"
      }
    },
    {
      "cell_type": "code",
      "execution_count": null,
      "metadata": {
        "id": "GBdRz1zJ-rmG"
      },
      "outputs": [],
      "source": [
        "from roboflow import Roboflow\n",
        "rf = Roboflow(api_key=\"mRU23tAr1sKN2UOIokAG\")\n",
        "project = rf.workspace(\"umkc-490-spring-2022\").project(\"weapon-detection-nicpz\")\n",
        "dataset = project.version(2).download(\"yolov5\")"
      ]
    },
    {
      "cell_type": "markdown",
      "source": [
        "### IF STARTING A FRESH TRAINING RUN"
      ],
      "metadata": {
        "id": "e0GbVvE_6iep"
      }
    },
    {
      "cell_type": "code",
      "execution_count": null,
      "metadata": {
        "colab": {
          "background_save": true
        },
        "id": "PMQjeIwp5Auv"
      },
      "outputs": [],
      "source": [
        "## Counterintuitively, ultralytics recommends higher batch size, at least 64.\n",
        "## Also, the training automatically stops if loss is plateauing for 100 epochs.\n",
        "\n",
        "!python train.py --img 736 --batch 64 --epochs 500 --data {dataset.location}/data.yaml --weights yolov5s.pt --cache"
      ]
    },
    {
      "cell_type": "code",
      "execution_count": null,
      "metadata": {
        "id": "acvz3BRDXkW4"
      },
      "outputs": [],
      "source": [
        "#export your model's weights for future use\n",
        "from google.colab import files\n",
        "files.download('./runs/train/exp/weights/best.pt')\n",
        "files.download('./runs/train/exp/weights/last.pt')"
      ]
    },
    {
      "cell_type": "markdown",
      "source": [
        "### FOR IMPORTING PRETRAINED MODELS"
      ],
      "metadata": {
        "id": "6Uc5VBvO8MdK"
      }
    },
    {
      "cell_type": "markdown",
      "source": [
        "#### PRETRAINED DEMO MODEL"
      ],
      "metadata": {
        "id": "Ze6R3mz58fos"
      }
    },
    {
      "cell_type": "code",
      "source": [
        "!wget -P /content/yolov5/weights"
      ],
      "metadata": {
        "id": "BQwPPoCF8WRp"
      },
      "execution_count": null,
      "outputs": []
    },
    {
      "cell_type": "markdown",
      "source": [
        "#### LOCAL WEIGHT MODEL UPLOAD"
      ],
      "metadata": {
        "id": "_DGmBELK8XGR"
      }
    },
    {
      "cell_type": "code",
      "execution_count": null,
      "metadata": {
        "id": "bQtDg_JexFR_"
      },
      "outputs": [],
      "source": [
        "#Creating the directory\n",
        "%mkdir /content/yolov5/weights\n",
        "\n",
        "#modify the first part of path to wherever you have placed the best.pt in your drive\n",
        "%cp /content/drive/My\\ Drive/\"INSERT PT FILE LOCATION HERE\" /content/yolov5/weights"
      ]
    },
    {
      "cell_type": "markdown",
      "source": [
        "### DETECTION"
      ],
      "metadata": {
        "id": "st0VXaMB7nan"
      }
    },
    {
      "cell_type": "markdown",
      "source": [
        "#### LOCAL MODEL"
      ],
      "metadata": {
        "id": "_UoLKYbZ9EHO"
      }
    },
    {
      "cell_type": "code",
      "execution_count": null,
      "metadata": {
        "id": "xYFKyJocqkBC"
      },
      "outputs": [],
      "source": [
        "localFile = input(\"Enter full local file path here:\")\n",
        "\n",
        "!python detect.py --weights /content/yolov5/weights/best.pt --img 736 --conf 0.1 --source localFile"
      ]
    },
    {
      "cell_type": "markdown",
      "source": [
        "#### VIDEO DETECTION"
      ],
      "metadata": {
        "id": "mxU0-ZSKPuNP"
      }
    },
    {
      "cell_type": "code",
      "source": [
        "## You may use a direct path, a youtube url, a direct http stream, or 0 for webcam\n",
        "\n",
        "inputVideoPath = input(\"Enter video path here:\")\n",
        "\n",
        "!python detect.py --weights /content/yolov5/weights/best.pt --img 736 --conf 0.1 --source inputVideoPath"
      ],
      "metadata": {
        "id": "pu2byjnTPyTb"
      },
      "execution_count": null,
      "outputs": []
    },
    {
      "cell_type": "markdown",
      "source": [
        "#### USING PRE-SELECTED DATASET"
      ],
      "metadata": {
        "id": "4NRBBjSh9KUR"
      }
    },
    {
      "cell_type": "code",
      "execution_count": null,
      "metadata": {
        "id": "oyFAPKIm8hmF"
      },
      "outputs": [],
      "source": [
        "!python detect.py --weights /content/yolov5/weights/best.pt --img 736 --conf 0.1 --source {dataset.location}/test/images"
      ]
    },
    {
      "cell_type": "markdown",
      "source": [
        "### OUTPUT RESULTS"
      ],
      "metadata": {
        "id": "Q03hxP4M9jqG"
      }
    },
    {
      "cell_type": "markdown",
      "source": [
        "####IMAGES"
      ],
      "metadata": {
        "id": "OtZGfN_xCn3F"
      }
    },
    {
      "cell_type": "code",
      "execution_count": null,
      "metadata": {
        "id": "09KnAj2o8vHt"
      },
      "outputs": [],
      "source": [
        "import glob\n",
        "\n",
        "path_start = '/content/yolov5/'\n",
        "\n",
        "print('Enter detection results path.')\n",
        "file_name = input('It will be the last line from the previous cell after \"saved to\":')\n",
        "path = path_start + file_name + \"/\"\n",
        "full_path = path + '*.jpg'\n",
        "\n",
        "for imageName in glob.glob(full_path):\n",
        "  display(Image(filename=imageName))\n",
        "  print(\"\\n\")"
      ]
    },
    {
      "cell_type": "markdown",
      "source": [
        "#### VIDEO"
      ],
      "metadata": {
        "id": "OXg68WbGQz_l"
      }
    },
    {
      "cell_type": "markdown",
      "source": [
        "Download the video from the local files on the left. Colab video streaming integration is not fully stable and can bloat ipynb files past allotted memory, causing a runtime crash."
      ],
      "metadata": {
        "id": "AACzpmNHQ4la"
      }
    }
  ],
  "metadata": {
    "accelerator": "GPU",
    "colab": {
      "background_execution": "on",
      "collapsed_sections": [],
      "machine_shape": "hm",
      "name": "YoloV5 Weapon Detection.ipynb",
      "provenance": []
    },
    "kernelspec": {
      "display_name": "Python 3",
      "name": "python3"
    },
    "language_info": {
      "name": "python"
    }
  },
  "nbformat": 4,
  "nbformat_minor": 0
}